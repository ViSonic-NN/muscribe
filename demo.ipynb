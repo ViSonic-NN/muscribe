{
 "cells": [
  {
   "cell_type": "code",
   "execution_count": 1,
   "metadata": {},
   "outputs": [],
   "source": [
    "import midi_score\n",
    "\n",
    "def get_midi(audio_path, output_midi_path):\n",
    "    import torch\n",
    "    import time\n",
    "    from audio_midi import PianoTranscription, load_audio, sample_rate\n",
    "\n",
    "    device = \"cuda\" if torch.cuda.is_available() else \"cpu\"\n",
    "    (audio, _) = load_audio(audio_path, sr=sample_rate, mono=True)\n",
    "    transcriptor = PianoTranscription(device=device)\n",
    "    transcribe_time = time.time()\n",
    "    transcriptor.transcribe(audio, output_midi_path)\n",
    "    print(\"Transcribe time: {:.3f} s\".format(time.time() - transcribe_time))\n",
    "    if output_midi_path:\n",
    "        return midi_score.read_note_sequence(output_midi_path)\n",
    "\n",
    "def get_beats(audio_path):\n",
    "    from BeatNet.BeatNet import BeatNet\n",
    "    from madmom.features.downbeats import DBNDownBeatTrackingProcessor\n",
    "\n",
    "    beatnet = BeatNet(model=1)\n",
    "    beat_activ = beatnet.activation_extractor_online(audio_path)\n",
    "    db_tracker = DBNDownBeatTrackingProcessor(beats_per_bar=[2, 3, 4], fps=50)\n",
    "    return db_tracker(beat_activ)  # Using DBN offline inference to infer beat/downbeats\n",
    "\n",
    "def get_keysig(midi_notes):\n",
    "    key_sig_pro = midi_score.RNNKeySignatureProcessor()\n",
    "    return key_sig_pro.process(midi_notes)\n",
    "\n",
    "def get_hand_parts(midi_notes):\n",
    "    hand_parts_pro = midi_score.RNNHandPartProcessor()\n",
    "    return hand_parts_pro.process(midi_notes)\n",
    "\n",
    "\n",
    "# midi = get_midi(\"example/sonatine.mp3\", \"example/sonatine.midi\")\n",
    "midi = midi_score.read_note_sequence(\"example/sonatine.midi\")\n",
    "beats = get_beats(\"example/sonatine.mp3\")\n",
    "key_change = get_keysig(midi)\n",
    "hand_parts = get_hand_parts(midi)"
   ]
  },
  {
   "cell_type": "code",
   "execution_count": 2,
   "metadata": {},
   "outputs": [],
   "source": [
    "builder = midi_score.MusicXMLBuilder(beats)\n",
    "builder.add_notes(midi.numpy(), hand_parts.numpy())\n",
    "builder.add_key_changes(key_change)\n",
    "builder.infer_bpm_changes(diff_size=2, log_bin_size=0.03)\n",
    "builder.render(\"example/sonatine.xml\")"
   ]
  }
 ],
 "metadata": {
  "kernelspec": {
   "display_name": "Python 3",
   "language": "python",
   "name": "python3"
  },
  "language_info": {
   "codemirror_mode": {
    "name": "ipython",
    "version": 3
   },
   "file_extension": ".py",
   "mimetype": "text/x-python",
   "name": "python",
   "nbconvert_exporter": "python",
   "pygments_lexer": "ipython3",
   "version": "3.11.5"
  },
  "vscode": {
   "interpreter": {
    "hash": "513c34b582369c042e4c09b2082a0eee972fc3557bcb2c161c81e814cba2f5b7"
   }
  }
 },
 "nbformat": 4,
 "nbformat_minor": 2
}
