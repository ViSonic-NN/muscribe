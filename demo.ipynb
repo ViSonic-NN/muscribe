{
 "cells": [
  {
   "cell_type": "markdown",
   "metadata": {},
   "source": [
    "# Model Training\n",
    "We first train the model "
   ]
  },
  {
   "cell_type": "code",
   "execution_count": 1,
   "metadata": {},
   "outputs": [
    {
     "name": "stderr",
     "output_type": "stream",
     "text": [
      "/home/cpyang/mambaforge/envs/visonic/lib/python3.11/site-packages/torch/nn/modules/lazy.py:180: UserWarning: Lazy modules are a new feature under heavy development so changes to the API or functionality can happen at any moment.\n",
      "  warnings.warn('Lazy modules are a new feature under heavy development '\n",
      "GPU available: True (cuda), used: True\n",
      "TPU available: False, using: 0 TPU cores\n",
      "IPU available: False, using: 0 IPUs\n",
      "HPU available: False, using: 0 HPUs\n",
      "LOCAL_RANK: 0 - CUDA_VISIBLE_DEVICES: [0]\n",
      "/home/cpyang/mambaforge/envs/visonic/lib/python3.11/site-packages/tqdm/auto.py:21: TqdmWarning: IProgress not found. Please update jupyter and ipywidgets. See https://ipywidgets.readthedocs.io/en/stable/user_install.html\n",
      "  from .autonotebook import tqdm as notebook_tqdm\n",
      "\n",
      "  | Name  | Type     | Params | In sizes       | Out sizes   \n",
      "-------------------------------------------------------------------\n",
      "0 | model | BeatCRNN | 1.3 M  | [1, 2000, 128] | [1, 2000, 3]\n",
      "-------------------------------------------------------------------\n",
      "1.3 M     Trainable params\n",
      "0         Non-trainable params\n",
      "1.3 M     Total params\n",
      "5.361     Total estimated model params size (MB)\n"
     ]
    },
    {
     "name": "stdout",
     "output_type": "stream",
     "text": [
      "Sanity Checking DataLoader 0:  50%|█████     | 1/2 [00:00<00:00, 23.62it/s]"
     ]
    },
    {
     "name": "stderr",
     "output_type": "stream",
     "text": [
      "/home/cpyang/mambaforge/envs/visonic/lib/python3.11/site-packages/pytorch_lightning/trainer/connectors/data_connector.py:442: PossibleUserWarning: The dataloader, val_dataloader, does not have many workers which may be a bottleneck. Consider increasing the value of the `num_workers` argument` (try 16 which is the number of cpus on this machine) in the `DataLoader` init to improve performance.\n",
      "  rank_zero_warn(\n"
     ]
    },
    {
     "name": "stdout",
     "output_type": "stream",
     "text": [
      "                                                                           \r"
     ]
    },
    {
     "name": "stderr",
     "output_type": "stream",
     "text": [
      "/home/cpyang/mambaforge/envs/visonic/lib/python3.11/site-packages/pytorch_lightning/trainer/connectors/data_connector.py:442: PossibleUserWarning: The dataloader, train_dataloader, does not have many workers which may be a bottleneck. Consider increasing the value of the `num_workers` argument` (try 16 which is the number of cpus on this machine) in the `DataLoader` init to improve performance.\n",
      "  rank_zero_warn(\n"
     ]
    },
    {
     "name": "stdout",
     "output_type": "stream",
     "text": [
      "Epoch 0:  72%|███████▏  | 323/448 [00:46<00:17,  7.02it/s, v_num=154, train/loss=nan.0]"
     ]
    },
    {
     "name": "stderr",
     "output_type": "stream",
     "text": [
      "/home/cpyang/mambaforge/envs/visonic/lib/python3.11/site-packages/pytorch_lightning/trainer/call.py:53: UserWarning: Detected KeyboardInterrupt, attempting graceful shutdown...\n",
      "  rank_zero_warn(\"Detected KeyboardInterrupt, attempting graceful shutdown...\")\n"
     ]
    }
   ],
   "source": [
    "# The entire training code:\n",
    "import pytorch_lightning as pl\n",
    "import torch\n",
    "from midi_score import BeatPredictorPL\n",
    "\n",
    "#trading-off precision for speed with tensor cores, enable if you have tensor cores\n",
    "torch.set_float32_matmul_precision('medium')\n",
    "\n",
    "epochs = 10\n",
    "\n",
    "model = BeatPredictorPL(\"midi_score/dataset\", epochs)\n",
    "pl.Trainer(accelerator=\"gpu\", devices = 1, max_epochs=epochs).fit(model)\n"
   ]
  },
  {
   "cell_type": "code",
   "execution_count": 3,
   "metadata": {},
   "outputs": [],
   "source": [
    "#save the model\n",
    "torch.save(model.state_dict(), './pretrained/beatModel.pth')"
   ]
  },
  {
   "cell_type": "code",
   "execution_count": null,
   "metadata": {},
   "outputs": [],
   "source": [
    "#Run this to see the training process\n",
    "!tensorboard --logdir=lightning_logs/"
   ]
  },
  {
   "cell_type": "markdown",
   "metadata": {},
   "source": [
    "And then we throw it into the wrapper class:"
   ]
  },
  {
   "cell_type": "code",
   "execution_count": 2,
   "metadata": {},
   "outputs": [],
   "source": [
    "import torch\n",
    "\n",
    "def encode_notes(midi_data, interval, cutoff):\n",
    "    # Find the total duration required\n",
    "    total_duration = max(\n",
    "        note[1] + note[2] for note in midi_data[midi_data[:, 1] < cutoff]\n",
    "    )  # considering the note's offset\n",
    "    length = int(total_duration // interval)\n",
    "    # Create an encoding matrix filled with zeros\n",
    "    encoding = torch.zeros(length, 128)\n",
    "    # Populate the encoding for the notes from midi_data\n",
    "    for idx, note in enumerate(midi_data[midi_data[:, 1] < cutoff]):\n",
    "        pitch, onset, duration, _ = note\n",
    "        start_idx = int((onset.item() // interval))\n",
    "        end_idx = int(((onset.item() + duration.item()) // interval))\n",
    "        encoding[start_idx:end_idx, int(pitch.item())] = 1\n",
    "\n",
    "    return encoding"
   ]
  },
  {
   "cell_type": "code",
   "execution_count": 3,
   "metadata": {},
   "outputs": [
    {
     "name": "stdout",
     "output_type": "stream",
     "text": [
      "tensor([[[1., 1., 1.],\n",
      "         [1., 1., 1.],\n",
      "         [1., 1., 1.],\n",
      "         ...,\n",
      "         [1., 1., 1.],\n",
      "         [1., 1., 1.],\n",
      "         [1., 1., 1.]]], device='cuda:0', grad_fn=<SoftmaxBackward0>)\n",
      "tensor([0., 0., 0., 0., 0., 0., 0., 0., 0., 0., 0., 0., 0., 0., 0., 0., 0., 0.,\n",
      "        0., 0., 0., 0., 0., 0., 0., 0., 0., 0., 0., 0., 0., 0., 0., 0., 0., 0.,\n",
      "        0., 0., 0., 0., 0., 0., 0., 0., 1., 0., 0., 0., 0., 0., 0., 1., 0., 0.,\n",
      "        0., 0., 0., 0., 0., 0., 0., 0., 0., 0., 0., 0., 0., 0., 0., 0., 0., 0.,\n",
      "        0., 0., 0., 0., 0., 0., 0., 0., 0., 0., 0., 0., 1., 0., 0., 1., 0., 0.,\n",
      "        0., 0., 0., 0., 0., 0., 0., 0., 0., 0., 0., 0., 0., 0., 0., 0., 0., 0.,\n",
      "        0., 0., 0., 0., 0., 0., 0., 0., 0., 0., 0., 0., 0., 0., 0., 0., 0., 0.,\n",
      "        0., 0.], device='cuda:0')\n"
     ]
    },
    {
     "name": "stderr",
     "output_type": "stream",
     "text": [
      "/home/cpyang/mambaforge/envs/visonic/lib/python3.11/site-packages/torch/nn/modules/container.py:217: UserWarning: Implicit dimension choice for softmax has been deprecated. Change the call to include dim=X as an argument.\n",
      "  input = module(input)\n"
     ]
    }
   ],
   "source": [
    "from model_wrapper import MuscribeModelWrapper\n",
    "import midi_score\n",
    "import torch\n",
    "from midi_score import BeatPredictorPL\n",
    "\n",
    "model = BeatPredictorPL(\"midi_score/dataset\", 10)\n",
    "model.load_state_dict(torch.load('./pretrained/beatModel.pth'))\n",
    "# midi = get_midi(\"example/sonatine.mp3\", \"example/sonatine.midi\")\n",
    "mmw = MuscribeModelWrapper(beat_model = model.forward)\n",
    "midi = midi_score.midi_read.read_note_sequence(\"example/heartgrace.midi\")\n",
    "#print(midi)\n",
    "encoded_notes = encode_notes(midi,0.02, 30).cuda()\n",
    "#print(encoded_notes)\n",
    "print(model.cuda().forward(encoded_notes.unsqueeze(0).cuda()))\n",
    "##print(encoded_notes[143])\n",
    "# beats = mmw.get_beats(use_midi = True, midi_notes = encoded_notes.unsqueeze(0).cuda())\n",
    "# print(beats.shape)\n",
    "# print(beats)\n",
    "#key_change = mmw.get_keysig(midi)\n",
    "#hand_parts = mmw.get_hand_parts(midi)"
   ]
  },
  {
   "cell_type": "code",
   "execution_count": null,
   "metadata": {},
   "outputs": [],
   "source": [
    "builder = midi_score.MusicXMLBuilder(beats)\n",
    "builder.add_notes(midi.numpy(), hand_parts.numpy())\n",
    "builder.add_key_changes(key_change)\n",
    "builder.infer_bpm_changes(diff_size=2, log_bin_size=0.03)\n",
    "builder.render(\"example/sonatine.xml\")"
   ]
  }
 ],
 "metadata": {
  "kernelspec": {
   "display_name": "Python 3",
   "language": "python",
   "name": "python3"
  },
  "language_info": {
   "codemirror_mode": {
    "name": "ipython",
    "version": 3
   },
   "file_extension": ".py",
   "mimetype": "text/x-python",
   "name": "python",
   "nbconvert_exporter": "python",
   "pygments_lexer": "ipython3",
   "version": "3.11.0"
  },
  "vscode": {
   "interpreter": {
    "hash": "513c34b582369c042e4c09b2082a0eee972fc3557bcb2c161c81e814cba2f5b7"
   }
  }
 },
 "nbformat": 4,
 "nbformat_minor": 2
}
