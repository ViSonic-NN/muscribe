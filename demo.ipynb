{
 "cells": [
  {
   "cell_type": "code",
   "execution_count": 1,
   "metadata": {},
   "outputs": [],
   "source": [
    "import midi_score\n",
    "\n",
    "def get_midi(audio_path, output_midi_path):\n",
    "    import torch\n",
    "    import time\n",
    "    from audio_midi import PianoTranscription, load_audio, sample_rate\n",
    "\n",
    "    device = \"cuda\" if torch.cuda.is_available() else \"cpu\"\n",
    "    (audio, _) = load_audio(audio_path, sr=sample_rate, mono=True)\n",
    "    transcriptor = PianoTranscription(device=device)\n",
    "    transcribe_time = time.time()\n",
    "    transcriptor.transcribe(audio, output_midi_path)\n",
    "    print(\"Transcribe time: {:.3f} s\".format(time.time() - transcribe_time))\n",
    "    return midi_score.read_note_sequence(output_midi_path)\n",
    "\n",
    "def get_beats(audio_path):\n",
    "    from BeatNet.BeatNet import BeatNet\n",
    "\n",
    "    estimator = BeatNet(1, mode=\"offline\", inference_model=\"DBN\", plot=[], thread=False)\n",
    "    return estimator.process(audio_path)\n",
    "\n",
    "def get_keysig(midi_notes):\n",
    "    key_sig_pro = midi_score.RNNKeySignatureProcessor()\n",
    "    return key_sig_pro.process(midi_notes)\n",
    "\n",
    "def get_hand_parts(midi_notes):\n",
    "    hand_parts_pro = midi_score.RNNHandPartProcessor()\n",
    "    return hand_parts_pro.process(midi_notes)\n",
    "\n",
    "\n",
    "# midi = get_midi(\"example/heartgrace.mp3\", None)\n",
    "midi = midi_score.read_note_sequence(\"example/heartgrace.midi\")\n",
    "beats = get_beats(\"example/heartgrace.mp3\")\n",
    "key_change = get_keysig(midi)\n",
    "hand_parts = get_hand_parts(midi)\n",
    "midi_score.write_to_xml(beats, midi.numpy(), hand_parts.numpy(), key_change, \"example/heartgrace.xml\")"
   ]
  }
 ],
 "metadata": {
  "kernelspec": {
   "display_name": "Python 3",
   "language": "python",
   "name": "python3"
  },
  "language_info": {
   "codemirror_mode": {
    "name": "ipython",
    "version": 3
   },
   "file_extension": ".py",
   "mimetype": "text/x-python",
   "name": "python",
   "nbconvert_exporter": "python",
   "pygments_lexer": "ipython3",
   "version": "3.11.5"
  },
  "vscode": {
   "interpreter": {
    "hash": "513c34b582369c042e4c09b2082a0eee972fc3557bcb2c161c81e814cba2f5b7"
   }
  }
 },
 "nbformat": 4,
 "nbformat_minor": 2
}
