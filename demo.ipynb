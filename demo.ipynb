{
 "cells": [
  {
   "cell_type": "markdown",
   "metadata": {},
   "source": [
    "# Demo\n",
    "We first train the model "
   ]
  },
  {
   "cell_type": "code",
   "execution_count": null,
   "metadata": {},
   "outputs": [],
   "source": [
    "# Set environment variables\n",
    "%env OMP_NUM_THREADS=1\n",
    "%env MKL_NUM_THREADS=1\n",
    "%env CUDA_LAUNCH_BLOCKING = 1\n",
    "%env TORCH_USE_CUDA_DSA = 1"
   ]
  },
  {
   "cell_type": "code",
   "execution_count": null,
   "metadata": {},
   "outputs": [],
   "source": [
    "# The entire training code:\n",
    "import pytorch_lightning as pl\n",
    "import torch\n",
    "from midi_score import BeatPredictorPL\n",
    "\n",
    "\n",
    "# #trading-off precision for speed with tensor cores, enable if you have tensor cores\n",
    "torch.set_float32_matmul_precision('medium')\n",
    "\n",
    "epochs = 50\n",
    "model = BeatPredictorPL(\"midi_score/dataset\", epochs)"
   ]
  },
  {
   "cell_type": "code",
   "execution_count": null,
   "metadata": {},
   "outputs": [],
   "source": [
    "#pl.Trainer(accelerator=\"gpu\", devices = 1, max_epochs=epochs, log_every_n_steps=30, overfit_batches=0.5).fit(model)\n",
    "pl.Trainer(accelerator=\"gpu\", devices = 1,  gradient_clip_val=1.5, max_epochs=epochs, callbacks=[pl.callbacks.StochasticWeightAveraging(swa_lrs=1e-5)],  log_every_n_steps=30, detect_anomaly=True, overfit_batches=0.1).fit(model)"
   ]
  },
  {
   "cell_type": "code",
   "execution_count": null,
   "metadata": {},
   "outputs": [],
   "source": [
    "#save the model\n",
    "torch.save(model.state_dict(), './pretrained/beatModel.pth')"
   ]
  },
  {
   "cell_type": "code",
   "execution_count": null,
   "metadata": {},
   "outputs": [],
   "source": [
    "#Run this to see the training process\n",
    "!tensorboard --logdir=lightning_logs/"
   ]
  },
  {
   "cell_type": "markdown",
   "metadata": {},
   "source": [
    "And then we throw it into the wrapper class:"
   ]
  },
  {
   "cell_type": "code",
   "execution_count": null,
   "metadata": {},
   "outputs": [],
   "source": [
    "import torch\n",
    "\n",
    "def encode_notes(midi_data, interval, cutoff):\n",
    "    # Find the total duration required\n",
    "    total_duration = max(\n",
    "        note[1] + note[2] for note in midi_data[midi_data[:, 1] < cutoff]\n",
    "    )  # considering the note's offset\n",
    "    length = int(total_duration // interval)\n",
    "    # Create an encoding matrix filled with zeros\n",
    "    encoding = torch.zeros(length, 128)\n",
    "    # Populate the encoding for the notes from midi_data\n",
    "    for idx, note in enumerate(midi_data[midi_data[:, 1] < cutoff]):\n",
    "        pitch, onset, duration, _ = note\n",
    "        start_idx = int((onset.item() // interval))\n",
    "        end_idx = int(((onset.item() + duration.item()) // interval))\n",
    "        encoding[start_idx:end_idx, int(pitch.item())] = 1\n",
    "\n",
    "    return encoding"
   ]
  },
  {
   "cell_type": "code",
   "execution_count": null,
   "metadata": {},
   "outputs": [],
   "source": [
    "from model_wrapper import MuscribeModelWrapper\n",
    "import midi_score\n",
    "import torch\n",
    "from midi_score import BeatPredictorPL\n",
    "\n",
    "model = BeatPredictorPL(\"midi_score/dataset\", 10)\n",
    "model.load_state_dict(torch.load('./pretrained/beatModel.pth'))\n",
    "# midi = get_midi(\"example/sonatine.mp3\", \"example/sonatine.midi\")\n",
    "mmw = MuscribeModelWrapper(beat_model = model.forward)\n",
    "midi = midi_score.midi_read.read_note_sequence(\"example/heartgrace.midi\")\n",
    "#print(midi)\n",
    "encoded_notes = encode_notes(midi,0.02, 30).cuda()\n",
    "#print(encoded_notes)\n",
    "print(model.cuda().forward(encoded_notes.unsqueeze(0).cuda()))\n",
    "##print(encoded_notes[143])\n",
    "# beats = mmw.get_beats(use_midi = True, midi_notes = encoded_notes.unsqueeze(0).cuda())\n",
    "# print(beats.shape)\n",
    "# print(beats)\n",
    "#key_change = mmw.get_keysig(midi)\n",
    "#hand_parts = mmw.get_hand_parts(midi)"
   ]
  },
  {
   "cell_type": "code",
   "execution_count": null,
   "metadata": {},
   "outputs": [],
   "source": [
    "builder = midi_score.MusicXMLBuilder(beats)\n",
    "builder.add_notes(midi.numpy(), hand_parts.numpy())\n",
    "builder.add_key_changes(key_change)\n",
    "builder.infer_bpm_changes(diff_size=2, log_bin_size=0.03)\n",
    "builder.render(\"example/sonatine.xml\")"
   ]
  }
 ],
 "metadata": {
  "kernelspec": {
   "display_name": "Python 3",
   "language": "python",
   "name": "python3"
  },
  "language_info": {
   "codemirror_mode": {
    "name": "ipython",
    "version": 3
   },
   "file_extension": ".py",
   "mimetype": "text/x-python",
   "name": "python",
   "nbconvert_exporter": "python",
   "pygments_lexer": "ipython3",
   "version": "3.11.0"
  },
  "vscode": {
   "interpreter": {
    "hash": "513c34b582369c042e4c09b2082a0eee972fc3557bcb2c161c81e814cba2f5b7"
   }
  }
 },
 "nbformat": 4,
 "nbformat_minor": 2
}
